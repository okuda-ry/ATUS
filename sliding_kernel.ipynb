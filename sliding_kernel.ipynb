{
 "cells": [
  {
   "cell_type": "code",
   "execution_count": 1,
   "metadata": {},
   "outputs": [],
   "source": [
    "import numpy as np\n",
    "from keras.models import Sequential,Model\n",
    "from keras.layers import  Dropout,Input,LSTM,Dense,Maximum,ReLU,Conv2D,MaxPool2D,Conv1D,MaxPool1D,Flatten,Concatenate,TimeDistributed,RepeatVector,UpSampling1D,Softmax,Lambda,Reshape,Multiply,Add\n",
    "from keras import backend as K\n",
    "from keras import initializers\n",
    "from tensorflow.keras.utils import plot_model\n",
    "import tensorflow.keras.callbacks as callbacks\n",
    "import pandas as pd\n",
    "import pydot\n",
    "import pydotplus\n",
    "from matplotlib import pylab as plt\n",
    "import datetime\n",
    "import tensorflow as tf\n",
    "from sklearn.model_selection import train_test_split\n",
    "from sklearn.metrics import classification_report\n",
    "from sklearn.metrics import confusion_matrix\n",
    "import matplotlib.pyplot as plt\n",
    "import seaborn as sns\n",
    "from unicodedata import name\n",
    "from requests import session\n",
    "from imblearn.under_sampling import RandomUnderSampler\n",
    "import random\n",
    "import copy\n",
    "import collections\n",
    "import math\n",
    "import pickle\n"
   ]
  },
  {
   "cell_type": "code",
   "execution_count": 2,
   "metadata": {},
   "outputs": [],
   "source": [
    "model = tf.keras.models.load_model(\"./checkpoints/predict_sliding_sleep_cnn/\")"
   ]
  },
  {
   "cell_type": "code",
   "execution_count": 3,
   "metadata": {},
   "outputs": [
    {
     "data": {
      "text/plain": [
       "<KerasTensor: shape=(None, 12, 3) dtype=float32 (created by layer 'Softmax_0')>"
      ]
     },
     "execution_count": 3,
     "metadata": {},
     "output_type": "execute_result"
    }
   ],
   "source": [
    "model.get_layer(\"Softmax_0\").output"
   ]
  },
  {
   "cell_type": "code",
   "execution_count": 4,
   "metadata": {},
   "outputs": [],
   "source": [
    "def check_weight(model,layer_name,input):\n",
    "    intermediate_model = Model(inputs=model.input,outputs=model.get_layer(layer_name).output)\n",
    "    softmax_output = intermediate_model.predict(input)\n",
    "    return softmax_output"
   ]
  },
  {
   "cell_type": "code",
   "execution_count": 6,
   "metadata": {},
   "outputs": [],
   "source": [
    "from joblib import dump,load"
   ]
  },
  {
   "cell_type": "code",
   "execution_count": 9,
   "metadata": {},
   "outputs": [],
   "source": [
    "X_train, X_val, y_train, y_val,X_train_dur_meal, X_val_dur_meal, y_train_meal, y_val_meal,X_train_HH, X_val_HH, y_train_HH, y_val_HH = load(\"./Joblib/train_val_input\")\n",
    "X_train_dur, X_val_dur,X_train_dur_meal, X_val_dur_meal,X_train_dur_HH, X_val_dur_HH = load(\"./Joblib/dur_train_val_input\")"
   ]
  },
  {
   "cell_type": "code",
   "execution_count": 12,
   "metadata": {},
   "outputs": [
    {
     "data": {
      "text/plain": [
       "array([[0.0000000e+00, 1.0000000e+00, 1.6579589e-10],\n",
       "       [3.5266462e-01, 3.3473424e-03, 6.4398801e-01],\n",
       "       [3.5266462e-01, 3.3473424e-03, 6.4398801e-01],\n",
       "       ...,\n",
       "       [3.5266462e-01, 3.3473424e-03, 6.4398801e-01],\n",
       "       [0.0000000e+00, 3.4761217e-01, 6.5238786e-01],\n",
       "       [3.5266462e-01, 3.3473424e-03, 6.4398801e-01]], dtype=float32)"
      ]
     },
     "execution_count": 12,
     "metadata": {},
     "output_type": "execute_result"
    }
   ],
   "source": [
    "check_weight(model,\"Softmax_0\",[X_val,X_val_dur])[:,0]"
   ]
  },
  {
   "cell_type": "code",
   "execution_count": 17,
   "metadata": {},
   "outputs": [],
   "source": [
    "merge_output = check_weight(model,\"merge_0\",[X_val,X_val_dur])"
   ]
  },
  {
   "cell_type": "code",
   "execution_count": null,
   "metadata": {},
   "outputs": [],
   "source": []
  }
 ],
 "metadata": {
  "kernelspec": {
   "display_name": "pyenv36",
   "language": "python",
   "name": "python3"
  },
  "language_info": {
   "codemirror_mode": {
    "name": "ipython",
    "version": 3
   },
   "file_extension": ".py",
   "mimetype": "text/x-python",
   "name": "python",
   "nbconvert_exporter": "python",
   "pygments_lexer": "ipython3",
   "version": "3.6.13"
  },
  "orig_nbformat": 4
 },
 "nbformat": 4,
 "nbformat_minor": 2
}
